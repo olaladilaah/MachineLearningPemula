{
 "cells": [
  {
   "cell_type": "markdown",
   "metadata": {
    "id": "fKADPWcFKlj3"
   },
   "source": [
    "# **1. Import Library**"
   ]
  },
  {
   "cell_type": "markdown",
   "metadata": {},
   "source": [
    "# Proyek Machine Learning Untuk Pemula \n",
    "- **Nama:** Adilah Widiasti\n",
    "- **Email:** adilahwidiasti86@gmail.com\n",
    "- **ID Dicoding:** adilahwidiasti - B244035E"
   ]
  },
  {
   "cell_type": "markdown",
   "metadata": {
    "id": "LgA3ERnVn84N"
   },
   "source": [
    "Pada tahap ini, Anda perlu mengimpor beberapa pustaka (library) Python yang dibutuhkan untuk analisis data dan pembangunan model machine learning."
   ]
  },
  {
   "cell_type": "code",
   "execution_count": null,
   "metadata": {
    "id": "BlmvjLY9M4Yj"
   },
   "outputs": [],
   "source": [
    "import pandas as pd\n",
    "from sklearn.model_selection import train_test_split\n",
    "from sklearn.ensemble import RandomForestClassifier\n",
    "from sklearn.pipeline import Pipeline\n",
    "from sklearn.compose import ColumnTransformer\n",
    "from sklearn.impute import SimpleImputer\n",
    "from sklearn.preprocessing import OneHotEncoder\n",
    "from sklearn.metrics import accuracy_score, f1_score, confusion_matrix\n"
   ]
  },
  {
   "cell_type": "markdown",
   "metadata": {
    "id": "f3YIEnAFKrKL"
   },
   "source": [
    "# **2. Memuat Dataset dari Hasil Clustering**"
   ]
  },
  {
   "cell_type": "markdown",
   "metadata": {
    "id": "Ey3ItwTen_7E"
   },
   "source": [
    "Memuat dataset hasil clustering dari file CSV ke dalam variabel DataFrame."
   ]
  },
  {
   "cell_type": "code",
   "execution_count": 53,
   "metadata": {
    "id": "GHCGNTyrM5fS"
   },
   "outputs": [
    {
     "name": "stdout",
     "output_type": "stream",
     "text": [
      "   work_year  salary  salary_in_usd  job_title_Data Analyst  (Remote)  \\\n",
      "0       2022  186597         136086                             False   \n",
      "1       2020  110630          67982                             False   \n",
      "2       2022   61280         153309                             False   \n",
      "3       2022  154130         135242                             False   \n",
      "4       2020  172312          35156                             False   \n",
      "\n",
      "   job_title_Data Analyst  in office  job_title_Data Engineer    \\\n",
      "0                              False                      False   \n",
      "1                              False                      False   \n",
      "2                              False                      False   \n",
      "3                               True                      False   \n",
      "4                              False                      False   \n",
      "\n",
      "   job_title_Data Engineer  (Remote)  job_title_Data Engineer  in office  \\\n",
      "0                              False                               False   \n",
      "1                              False                               False   \n",
      "2                              False                               False   \n",
      "3                              False                               False   \n",
      "4                              False                               False   \n",
      "\n",
      "   job_title_Data Scientist    job_title_Data Scientist  (Remote)  ...  \\\n",
      "0                       False                               False  ...   \n",
      "1                       False                               False  ...   \n",
      "2                       False                               False  ...   \n",
      "3                       False                               False  ...   \n",
      "4                       False                               False  ...   \n",
      "\n",
      "   company_location_DE  company_location_IN  company_location_JP  \\\n",
      "0                 True                False                False   \n",
      "1                False                 True                False   \n",
      "2                False                False                False   \n",
      "3                False                False                False   \n",
      "4                False                False                False   \n",
      "\n",
      "   company_location_MX  company_location_UK  company_location_US  \\\n",
      "0                False                False                False   \n",
      "1                False                False                False   \n",
      "2                False                False                False   \n",
      "3                 True                False                False   \n",
      "4                False                 True                False   \n",
      "\n",
      "   company_size_M  company_size_S  salary_category  Cluster  \n",
      "0           False           False             High        0  \n",
      "1            True           False           Medium        2  \n",
      "2           False           False        Very High        0  \n",
      "3           False           False             High        0  \n",
      "4           False            True              Low        1  \n",
      "\n",
      "[5 rows x 48 columns]\n"
     ]
    }
   ],
   "source": [
    "# **2. Memuat Dataset dari Hasil Clustering**\n",
    "# Memuat dataset yang telah disimpan sebelumnya\n",
    "df = pd.read_csv('../data/clustering_results.csv')\n",
    "\n",
    "# Tampilkan beberapa baris pertama dari dataset\n",
    "print(df.head())"
   ]
  },
  {
   "cell_type": "markdown",
   "metadata": {
    "id": "KkPem5eWL2UP"
   },
   "source": [
    "# **3. Data Splitting**"
   ]
  },
  {
   "cell_type": "markdown",
   "metadata": {
    "id": "YYj1rl_JNI9Y"
   },
   "source": [
    "Tahap Data Splitting bertujuan untuk memisahkan dataset menjadi dua bagian: data latih (training set) dan data uji (test set)."
   ]
  },
  {
   "cell_type": "code",
   "execution_count": 54,
   "metadata": {
    "id": "OubAW-7ONKVj"
   },
   "outputs": [],
   "source": [
    "# **3. Data Splitting**\n",
    "X = df.drop(columns=['Cluster'])  # Fitur\n",
    "y = df['Cluster']  # Label (cluster)\n",
    "\n",
    "# Membagi dataset menjadi data latih dan data uji\n",
    "X_train, X_test, y_train, y_test = train_test_split(X, y, test_size=0.2, random_state=42)\n"
   ]
  },
  {
   "cell_type": "markdown",
   "metadata": {
    "id": "IVPbB03CMhTT"
   },
   "source": [
    "# **4. Membangun Model Klasifikasi**\n"
   ]
  },
  {
   "cell_type": "markdown",
   "metadata": {
    "id": "Ned1pL9zMmBK"
   },
   "source": [
    "## **a. Membangun Model Klasifikasi**"
   ]
  },
  {
   "cell_type": "markdown",
   "metadata": {
    "id": "WAWzPOE4Nkti"
   },
   "source": [
    "Setelah memilih algoritma klasifikasi yang sesuai, langkah selanjutnya adalah melatih model menggunakan data latih.\n",
    "\n",
    "Berikut adalah rekomendasi tahapannya.\n",
    "1. Pilih algoritma klasifikasi yang sesuai, seperti Logistic Regression, Decision Tree, Random Forest, atau K-Nearest Neighbors (KNN).\n",
    "2. Latih model menggunakan data latih."
   ]
  },
  {
   "cell_type": "code",
   "execution_count": 55,
   "metadata": {
    "id": "4JYxBe87NLDk"
   },
   "outputs": [
    {
     "data": {
      "text/html": [
       "<style>#sk-container-id-3 {\n",
       "  /* Definition of color scheme common for light and dark mode */\n",
       "  --sklearn-color-text: black;\n",
       "  --sklearn-color-line: gray;\n",
       "  /* Definition of color scheme for unfitted estimators */\n",
       "  --sklearn-color-unfitted-level-0: #fff5e6;\n",
       "  --sklearn-color-unfitted-level-1: #f6e4d2;\n",
       "  --sklearn-color-unfitted-level-2: #ffe0b3;\n",
       "  --sklearn-color-unfitted-level-3: chocolate;\n",
       "  /* Definition of color scheme for fitted estimators */\n",
       "  --sklearn-color-fitted-level-0: #f0f8ff;\n",
       "  --sklearn-color-fitted-level-1: #d4ebff;\n",
       "  --sklearn-color-fitted-level-2: #b3dbfd;\n",
       "  --sklearn-color-fitted-level-3: cornflowerblue;\n",
       "\n",
       "  /* Specific color for light theme */\n",
       "  --sklearn-color-text-on-default-background: var(--sg-text-color, var(--theme-code-foreground, var(--jp-content-font-color1, black)));\n",
       "  --sklearn-color-background: var(--sg-background-color, var(--theme-background, var(--jp-layout-color0, white)));\n",
       "  --sklearn-color-border-box: var(--sg-text-color, var(--theme-code-foreground, var(--jp-content-font-color1, black)));\n",
       "  --sklearn-color-icon: #696969;\n",
       "\n",
       "  @media (prefers-color-scheme: dark) {\n",
       "    /* Redefinition of color scheme for dark theme */\n",
       "    --sklearn-color-text-on-default-background: var(--sg-text-color, var(--theme-code-foreground, var(--jp-content-font-color1, white)));\n",
       "    --sklearn-color-background: var(--sg-background-color, var(--theme-background, var(--jp-layout-color0, #111)));\n",
       "    --sklearn-color-border-box: var(--sg-text-color, var(--theme-code-foreground, var(--jp-content-font-color1, white)));\n",
       "    --sklearn-color-icon: #878787;\n",
       "  }\n",
       "}\n",
       "\n",
       "#sk-container-id-3 {\n",
       "  color: var(--sklearn-color-text);\n",
       "}\n",
       "\n",
       "#sk-container-id-3 pre {\n",
       "  padding: 0;\n",
       "}\n",
       "\n",
       "#sk-container-id-3 input.sk-hidden--visually {\n",
       "  border: 0;\n",
       "  clip: rect(1px 1px 1px 1px);\n",
       "  clip: rect(1px, 1px, 1px, 1px);\n",
       "  height: 1px;\n",
       "  margin: -1px;\n",
       "  overflow: hidden;\n",
       "  padding: 0;\n",
       "  position: absolute;\n",
       "  width: 1px;\n",
       "}\n",
       "\n",
       "#sk-container-id-3 div.sk-dashed-wrapped {\n",
       "  border: 1px dashed var(--sklearn-color-line);\n",
       "  margin: 0 0.4em 0.5em 0.4em;\n",
       "  box-sizing: border-box;\n",
       "  padding-bottom: 0.4em;\n",
       "  background-color: var(--sklearn-color-background);\n",
       "}\n",
       "\n",
       "#sk-container-id-3 div.sk-container {\n",
       "  /* jupyter's `normalize.less` sets `[hidden] { display: none; }`\n",
       "     but bootstrap.min.css set `[hidden] { display: none !important; }`\n",
       "     so we also need the `!important` here to be able to override the\n",
       "     default hidden behavior on the sphinx rendered scikit-learn.org.\n",
       "     See: https://github.com/scikit-learn/scikit-learn/issues/21755 */\n",
       "  display: inline-block !important;\n",
       "  position: relative;\n",
       "}\n",
       "\n",
       "#sk-container-id-3 div.sk-text-repr-fallback {\n",
       "  display: none;\n",
       "}\n",
       "\n",
       "div.sk-parallel-item,\n",
       "div.sk-serial,\n",
       "div.sk-item {\n",
       "  /* draw centered vertical line to link estimators */\n",
       "  background-image: linear-gradient(var(--sklearn-color-text-on-default-background), var(--sklearn-color-text-on-default-background));\n",
       "  background-size: 2px 100%;\n",
       "  background-repeat: no-repeat;\n",
       "  background-position: center center;\n",
       "}\n",
       "\n",
       "/* Parallel-specific style estimator block */\n",
       "\n",
       "#sk-container-id-3 div.sk-parallel-item::after {\n",
       "  content: \"\";\n",
       "  width: 100%;\n",
       "  border-bottom: 2px solid var(--sklearn-color-text-on-default-background);\n",
       "  flex-grow: 1;\n",
       "}\n",
       "\n",
       "#sk-container-id-3 div.sk-parallel {\n",
       "  display: flex;\n",
       "  align-items: stretch;\n",
       "  justify-content: center;\n",
       "  background-color: var(--sklearn-color-background);\n",
       "  position: relative;\n",
       "}\n",
       "\n",
       "#sk-container-id-3 div.sk-parallel-item {\n",
       "  display: flex;\n",
       "  flex-direction: column;\n",
       "}\n",
       "\n",
       "#sk-container-id-3 div.sk-parallel-item:first-child::after {\n",
       "  align-self: flex-end;\n",
       "  width: 50%;\n",
       "}\n",
       "\n",
       "#sk-container-id-3 div.sk-parallel-item:last-child::after {\n",
       "  align-self: flex-start;\n",
       "  width: 50%;\n",
       "}\n",
       "\n",
       "#sk-container-id-3 div.sk-parallel-item:only-child::after {\n",
       "  width: 0;\n",
       "}\n",
       "\n",
       "/* Serial-specific style estimator block */\n",
       "\n",
       "#sk-container-id-3 div.sk-serial {\n",
       "  display: flex;\n",
       "  flex-direction: column;\n",
       "  align-items: center;\n",
       "  background-color: var(--sklearn-color-background);\n",
       "  padding-right: 1em;\n",
       "  padding-left: 1em;\n",
       "}\n",
       "\n",
       "\n",
       "/* Toggleable style: style used for estimator/Pipeline/ColumnTransformer box that is\n",
       "clickable and can be expanded/collapsed.\n",
       "- Pipeline and ColumnTransformer use this feature and define the default style\n",
       "- Estimators will overwrite some part of the style using the `sk-estimator` class\n",
       "*/\n",
       "\n",
       "/* Pipeline and ColumnTransformer style (default) */\n",
       "\n",
       "#sk-container-id-3 div.sk-toggleable {\n",
       "  /* Default theme specific background. It is overwritten whether we have a\n",
       "  specific estimator or a Pipeline/ColumnTransformer */\n",
       "  background-color: var(--sklearn-color-background);\n",
       "}\n",
       "\n",
       "/* Toggleable label */\n",
       "#sk-container-id-3 label.sk-toggleable__label {\n",
       "  cursor: pointer;\n",
       "  display: block;\n",
       "  width: 100%;\n",
       "  margin-bottom: 0;\n",
       "  padding: 0.5em;\n",
       "  box-sizing: border-box;\n",
       "  text-align: center;\n",
       "}\n",
       "\n",
       "#sk-container-id-3 label.sk-toggleable__label-arrow:before {\n",
       "  /* Arrow on the left of the label */\n",
       "  content: \"▸\";\n",
       "  float: left;\n",
       "  margin-right: 0.25em;\n",
       "  color: var(--sklearn-color-icon);\n",
       "}\n",
       "\n",
       "#sk-container-id-3 label.sk-toggleable__label-arrow:hover:before {\n",
       "  color: var(--sklearn-color-text);\n",
       "}\n",
       "\n",
       "/* Toggleable content - dropdown */\n",
       "\n",
       "#sk-container-id-3 div.sk-toggleable__content {\n",
       "  max-height: 0;\n",
       "  max-width: 0;\n",
       "  overflow: hidden;\n",
       "  text-align: left;\n",
       "  /* unfitted */\n",
       "  background-color: var(--sklearn-color-unfitted-level-0);\n",
       "}\n",
       "\n",
       "#sk-container-id-3 div.sk-toggleable__content.fitted {\n",
       "  /* fitted */\n",
       "  background-color: var(--sklearn-color-fitted-level-0);\n",
       "}\n",
       "\n",
       "#sk-container-id-3 div.sk-toggleable__content pre {\n",
       "  margin: 0.2em;\n",
       "  border-radius: 0.25em;\n",
       "  color: var(--sklearn-color-text);\n",
       "  /* unfitted */\n",
       "  background-color: var(--sklearn-color-unfitted-level-0);\n",
       "}\n",
       "\n",
       "#sk-container-id-3 div.sk-toggleable__content.fitted pre {\n",
       "  /* unfitted */\n",
       "  background-color: var(--sklearn-color-fitted-level-0);\n",
       "}\n",
       "\n",
       "#sk-container-id-3 input.sk-toggleable__control:checked~div.sk-toggleable__content {\n",
       "  /* Expand drop-down */\n",
       "  max-height: 200px;\n",
       "  max-width: 100%;\n",
       "  overflow: auto;\n",
       "}\n",
       "\n",
       "#sk-container-id-3 input.sk-toggleable__control:checked~label.sk-toggleable__label-arrow:before {\n",
       "  content: \"▾\";\n",
       "}\n",
       "\n",
       "/* Pipeline/ColumnTransformer-specific style */\n",
       "\n",
       "#sk-container-id-3 div.sk-label input.sk-toggleable__control:checked~label.sk-toggleable__label {\n",
       "  color: var(--sklearn-color-text);\n",
       "  background-color: var(--sklearn-color-unfitted-level-2);\n",
       "}\n",
       "\n",
       "#sk-container-id-3 div.sk-label.fitted input.sk-toggleable__control:checked~label.sk-toggleable__label {\n",
       "  background-color: var(--sklearn-color-fitted-level-2);\n",
       "}\n",
       "\n",
       "/* Estimator-specific style */\n",
       "\n",
       "/* Colorize estimator box */\n",
       "#sk-container-id-3 div.sk-estimator input.sk-toggleable__control:checked~label.sk-toggleable__label {\n",
       "  /* unfitted */\n",
       "  background-color: var(--sklearn-color-unfitted-level-2);\n",
       "}\n",
       "\n",
       "#sk-container-id-3 div.sk-estimator.fitted input.sk-toggleable__control:checked~label.sk-toggleable__label {\n",
       "  /* fitted */\n",
       "  background-color: var(--sklearn-color-fitted-level-2);\n",
       "}\n",
       "\n",
       "#sk-container-id-3 div.sk-label label.sk-toggleable__label,\n",
       "#sk-container-id-3 div.sk-label label {\n",
       "  /* The background is the default theme color */\n",
       "  color: var(--sklearn-color-text-on-default-background);\n",
       "}\n",
       "\n",
       "/* On hover, darken the color of the background */\n",
       "#sk-container-id-3 div.sk-label:hover label.sk-toggleable__label {\n",
       "  color: var(--sklearn-color-text);\n",
       "  background-color: var(--sklearn-color-unfitted-level-2);\n",
       "}\n",
       "\n",
       "/* Label box, darken color on hover, fitted */\n",
       "#sk-container-id-3 div.sk-label.fitted:hover label.sk-toggleable__label.fitted {\n",
       "  color: var(--sklearn-color-text);\n",
       "  background-color: var(--sklearn-color-fitted-level-2);\n",
       "}\n",
       "\n",
       "/* Estimator label */\n",
       "\n",
       "#sk-container-id-3 div.sk-label label {\n",
       "  font-family: monospace;\n",
       "  font-weight: bold;\n",
       "  display: inline-block;\n",
       "  line-height: 1.2em;\n",
       "}\n",
       "\n",
       "#sk-container-id-3 div.sk-label-container {\n",
       "  text-align: center;\n",
       "}\n",
       "\n",
       "/* Estimator-specific */\n",
       "#sk-container-id-3 div.sk-estimator {\n",
       "  font-family: monospace;\n",
       "  border: 1px dotted var(--sklearn-color-border-box);\n",
       "  border-radius: 0.25em;\n",
       "  box-sizing: border-box;\n",
       "  margin-bottom: 0.5em;\n",
       "  /* unfitted */\n",
       "  background-color: var(--sklearn-color-unfitted-level-0);\n",
       "}\n",
       "\n",
       "#sk-container-id-3 div.sk-estimator.fitted {\n",
       "  /* fitted */\n",
       "  background-color: var(--sklearn-color-fitted-level-0);\n",
       "}\n",
       "\n",
       "/* on hover */\n",
       "#sk-container-id-3 div.sk-estimator:hover {\n",
       "  /* unfitted */\n",
       "  background-color: var(--sklearn-color-unfitted-level-2);\n",
       "}\n",
       "\n",
       "#sk-container-id-3 div.sk-estimator.fitted:hover {\n",
       "  /* fitted */\n",
       "  background-color: var(--sklearn-color-fitted-level-2);\n",
       "}\n",
       "\n",
       "/* Specification for estimator info (e.g. \"i\" and \"?\") */\n",
       "\n",
       "/* Common style for \"i\" and \"?\" */\n",
       "\n",
       ".sk-estimator-doc-link,\n",
       "a:link.sk-estimator-doc-link,\n",
       "a:visited.sk-estimator-doc-link {\n",
       "  float: right;\n",
       "  font-size: smaller;\n",
       "  line-height: 1em;\n",
       "  font-family: monospace;\n",
       "  background-color: var(--sklearn-color-background);\n",
       "  border-radius: 1em;\n",
       "  height: 1em;\n",
       "  width: 1em;\n",
       "  text-decoration: none !important;\n",
       "  margin-left: 1ex;\n",
       "  /* unfitted */\n",
       "  border: var(--sklearn-color-unfitted-level-1) 1pt solid;\n",
       "  color: var(--sklearn-color-unfitted-level-1);\n",
       "}\n",
       "\n",
       ".sk-estimator-doc-link.fitted,\n",
       "a:link.sk-estimator-doc-link.fitted,\n",
       "a:visited.sk-estimator-doc-link.fitted {\n",
       "  /* fitted */\n",
       "  border: var(--sklearn-color-fitted-level-1) 1pt solid;\n",
       "  color: var(--sklearn-color-fitted-level-1);\n",
       "}\n",
       "\n",
       "/* On hover */\n",
       "div.sk-estimator:hover .sk-estimator-doc-link:hover,\n",
       ".sk-estimator-doc-link:hover,\n",
       "div.sk-label-container:hover .sk-estimator-doc-link:hover,\n",
       ".sk-estimator-doc-link:hover {\n",
       "  /* unfitted */\n",
       "  background-color: var(--sklearn-color-unfitted-level-3);\n",
       "  color: var(--sklearn-color-background);\n",
       "  text-decoration: none;\n",
       "}\n",
       "\n",
       "div.sk-estimator.fitted:hover .sk-estimator-doc-link.fitted:hover,\n",
       ".sk-estimator-doc-link.fitted:hover,\n",
       "div.sk-label-container:hover .sk-estimator-doc-link.fitted:hover,\n",
       ".sk-estimator-doc-link.fitted:hover {\n",
       "  /* fitted */\n",
       "  background-color: var(--sklearn-color-fitted-level-3);\n",
       "  color: var(--sklearn-color-background);\n",
       "  text-decoration: none;\n",
       "}\n",
       "\n",
       "/* Span, style for the box shown on hovering the info icon */\n",
       ".sk-estimator-doc-link span {\n",
       "  display: none;\n",
       "  z-index: 9999;\n",
       "  position: relative;\n",
       "  font-weight: normal;\n",
       "  right: .2ex;\n",
       "  padding: .5ex;\n",
       "  margin: .5ex;\n",
       "  width: min-content;\n",
       "  min-width: 20ex;\n",
       "  max-width: 50ex;\n",
       "  color: var(--sklearn-color-text);\n",
       "  box-shadow: 2pt 2pt 4pt #999;\n",
       "  /* unfitted */\n",
       "  background: var(--sklearn-color-unfitted-level-0);\n",
       "  border: .5pt solid var(--sklearn-color-unfitted-level-3);\n",
       "}\n",
       "\n",
       ".sk-estimator-doc-link.fitted span {\n",
       "  /* fitted */\n",
       "  background: var(--sklearn-color-fitted-level-0);\n",
       "  border: var(--sklearn-color-fitted-level-3);\n",
       "}\n",
       "\n",
       ".sk-estimator-doc-link:hover span {\n",
       "  display: block;\n",
       "}\n",
       "\n",
       "/* \"?\"-specific style due to the `<a>` HTML tag */\n",
       "\n",
       "#sk-container-id-3 a.estimator_doc_link {\n",
       "  float: right;\n",
       "  font-size: 1rem;\n",
       "  line-height: 1em;\n",
       "  font-family: monospace;\n",
       "  background-color: var(--sklearn-color-background);\n",
       "  border-radius: 1rem;\n",
       "  height: 1rem;\n",
       "  width: 1rem;\n",
       "  text-decoration: none;\n",
       "  /* unfitted */\n",
       "  color: var(--sklearn-color-unfitted-level-1);\n",
       "  border: var(--sklearn-color-unfitted-level-1) 1pt solid;\n",
       "}\n",
       "\n",
       "#sk-container-id-3 a.estimator_doc_link.fitted {\n",
       "  /* fitted */\n",
       "  border: var(--sklearn-color-fitted-level-1) 1pt solid;\n",
       "  color: var(--sklearn-color-fitted-level-1);\n",
       "}\n",
       "\n",
       "/* On hover */\n",
       "#sk-container-id-3 a.estimator_doc_link:hover {\n",
       "  /* unfitted */\n",
       "  background-color: var(--sklearn-color-unfitted-level-3);\n",
       "  color: var(--sklearn-color-background);\n",
       "  text-decoration: none;\n",
       "}\n",
       "\n",
       "#sk-container-id-3 a.estimator_doc_link.fitted:hover {\n",
       "  /* fitted */\n",
       "  background-color: var(--sklearn-color-fitted-level-3);\n",
       "}\n",
       "</style><div id=\"sk-container-id-3\" class=\"sk-top-container\"><div class=\"sk-text-repr-fallback\"><pre>Pipeline(steps=[(&#x27;preprocessor&#x27;,\n",
       "                 ColumnTransformer(transformers=[(&#x27;num&#x27;, SimpleImputer(),\n",
       "                                                  [&#x27;work_year&#x27;, &#x27;salary&#x27;,\n",
       "                                                   &#x27;salary_in_usd&#x27;,\n",
       "                                                   &#x27;job_title_Data Analyst  &#x27;\n",
       "                                                   &#x27;(Remote)&#x27;,\n",
       "                                                   &#x27;job_title_Data Analyst  in &#x27;\n",
       "                                                   &#x27;office&#x27;,\n",
       "                                                   &#x27;job_title_Data Engineer  &#x27;,\n",
       "                                                   &#x27;job_title_Data Engineer  &#x27;\n",
       "                                                   &#x27;(Remote)&#x27;,\n",
       "                                                   &#x27;job_title_Data Engineer  &#x27;\n",
       "                                                   &#x27;in office&#x27;,\n",
       "                                                   &#x27;job_title_Data Scientist  &#x27;,\n",
       "                                                   &#x27;job_title_Data Scientist  &#x27;\n",
       "                                                   &#x27;(Remote)&#x27;,...\n",
       "                                                   &#x27;job_category_ML/AI&#x27;,\n",
       "                                                   &#x27;salary_currency_GBP&#x27;,\n",
       "                                                   &#x27;salary_currency_INR&#x27;,\n",
       "                                                   &#x27;salary_currency_JPY&#x27;,\n",
       "                                                   &#x27;salary_currency_us dolars&#x27;,\n",
       "                                                   &#x27;employee_residence_DE&#x27;,\n",
       "                                                   &#x27;employee_residence_IN&#x27;,\n",
       "                                                   &#x27;employee_residence_JP&#x27;,\n",
       "                                                   &#x27;employee_residence_MX&#x27;,\n",
       "                                                   &#x27;employee_residence_UK&#x27;,\n",
       "                                                   &#x27;employee_residence_US&#x27;, ...]),\n",
       "                                                 (&#x27;cat&#x27;, OneHotEncoder(),\n",
       "                                                  [&#x27;salary_category&#x27;])])),\n",
       "                (&#x27;classifier&#x27;, RandomForestClassifier(random_state=42))])</pre><b>In a Jupyter environment, please rerun this cell to show the HTML representation or trust the notebook. <br />On GitHub, the HTML representation is unable to render, please try loading this page with nbviewer.org.</b></div><div class=\"sk-container\" hidden><div class=\"sk-item sk-dashed-wrapped\"><div class=\"sk-label-container\"><div class=\"sk-label fitted sk-toggleable\"><input class=\"sk-toggleable__control sk-hidden--visually\" id=\"sk-estimator-id-9\" type=\"checkbox\" ><label for=\"sk-estimator-id-9\" class=\"sk-toggleable__label fitted sk-toggleable__label-arrow fitted\">&nbsp;&nbsp;Pipeline<a class=\"sk-estimator-doc-link fitted\" rel=\"noreferrer\" target=\"_blank\" href=\"https://scikit-learn.org/1.5/modules/generated/sklearn.pipeline.Pipeline.html\">?<span>Documentation for Pipeline</span></a><span class=\"sk-estimator-doc-link fitted\">i<span>Fitted</span></span></label><div class=\"sk-toggleable__content fitted\"><pre>Pipeline(steps=[(&#x27;preprocessor&#x27;,\n",
       "                 ColumnTransformer(transformers=[(&#x27;num&#x27;, SimpleImputer(),\n",
       "                                                  [&#x27;work_year&#x27;, &#x27;salary&#x27;,\n",
       "                                                   &#x27;salary_in_usd&#x27;,\n",
       "                                                   &#x27;job_title_Data Analyst  &#x27;\n",
       "                                                   &#x27;(Remote)&#x27;,\n",
       "                                                   &#x27;job_title_Data Analyst  in &#x27;\n",
       "                                                   &#x27;office&#x27;,\n",
       "                                                   &#x27;job_title_Data Engineer  &#x27;,\n",
       "                                                   &#x27;job_title_Data Engineer  &#x27;\n",
       "                                                   &#x27;(Remote)&#x27;,\n",
       "                                                   &#x27;job_title_Data Engineer  &#x27;\n",
       "                                                   &#x27;in office&#x27;,\n",
       "                                                   &#x27;job_title_Data Scientist  &#x27;,\n",
       "                                                   &#x27;job_title_Data Scientist  &#x27;\n",
       "                                                   &#x27;(Remote)&#x27;,...\n",
       "                                                   &#x27;job_category_ML/AI&#x27;,\n",
       "                                                   &#x27;salary_currency_GBP&#x27;,\n",
       "                                                   &#x27;salary_currency_INR&#x27;,\n",
       "                                                   &#x27;salary_currency_JPY&#x27;,\n",
       "                                                   &#x27;salary_currency_us dolars&#x27;,\n",
       "                                                   &#x27;employee_residence_DE&#x27;,\n",
       "                                                   &#x27;employee_residence_IN&#x27;,\n",
       "                                                   &#x27;employee_residence_JP&#x27;,\n",
       "                                                   &#x27;employee_residence_MX&#x27;,\n",
       "                                                   &#x27;employee_residence_UK&#x27;,\n",
       "                                                   &#x27;employee_residence_US&#x27;, ...]),\n",
       "                                                 (&#x27;cat&#x27;, OneHotEncoder(),\n",
       "                                                  [&#x27;salary_category&#x27;])])),\n",
       "                (&#x27;classifier&#x27;, RandomForestClassifier(random_state=42))])</pre></div> </div></div><div class=\"sk-serial\"><div class=\"sk-item sk-dashed-wrapped\"><div class=\"sk-label-container\"><div class=\"sk-label fitted sk-toggleable\"><input class=\"sk-toggleable__control sk-hidden--visually\" id=\"sk-estimator-id-10\" type=\"checkbox\" ><label for=\"sk-estimator-id-10\" class=\"sk-toggleable__label fitted sk-toggleable__label-arrow fitted\">&nbsp;preprocessor: ColumnTransformer<a class=\"sk-estimator-doc-link fitted\" rel=\"noreferrer\" target=\"_blank\" href=\"https://scikit-learn.org/1.5/modules/generated/sklearn.compose.ColumnTransformer.html\">?<span>Documentation for preprocessor: ColumnTransformer</span></a></label><div class=\"sk-toggleable__content fitted\"><pre>ColumnTransformer(transformers=[(&#x27;num&#x27;, SimpleImputer(),\n",
       "                                 [&#x27;work_year&#x27;, &#x27;salary&#x27;, &#x27;salary_in_usd&#x27;,\n",
       "                                  &#x27;job_title_Data Analyst  (Remote)&#x27;,\n",
       "                                  &#x27;job_title_Data Analyst  in office&#x27;,\n",
       "                                  &#x27;job_title_Data Engineer  &#x27;,\n",
       "                                  &#x27;job_title_Data Engineer  (Remote)&#x27;,\n",
       "                                  &#x27;job_title_Data Engineer  in office&#x27;,\n",
       "                                  &#x27;job_title_Data Scientist  &#x27;,\n",
       "                                  &#x27;job_title_Data Scientist  (Remote)&#x27;,\n",
       "                                  &#x27;job_title_Data Scientist  in office&#x27;,\n",
       "                                  &#x27;job_tit...\n",
       "                                  &#x27;job_category_Data Science&#x27;,\n",
       "                                  &#x27;job_category_Engineering&#x27;,\n",
       "                                  &#x27;job_category_ML/AI&#x27;, &#x27;salary_currency_GBP&#x27;,\n",
       "                                  &#x27;salary_currency_INR&#x27;, &#x27;salary_currency_JPY&#x27;,\n",
       "                                  &#x27;salary_currency_us dolars&#x27;,\n",
       "                                  &#x27;employee_residence_DE&#x27;,\n",
       "                                  &#x27;employee_residence_IN&#x27;,\n",
       "                                  &#x27;employee_residence_JP&#x27;,\n",
       "                                  &#x27;employee_residence_MX&#x27;,\n",
       "                                  &#x27;employee_residence_UK&#x27;,\n",
       "                                  &#x27;employee_residence_US&#x27;, ...]),\n",
       "                                (&#x27;cat&#x27;, OneHotEncoder(), [&#x27;salary_category&#x27;])])</pre></div> </div></div><div class=\"sk-parallel\"><div class=\"sk-parallel-item\"><div class=\"sk-item\"><div class=\"sk-label-container\"><div class=\"sk-label fitted sk-toggleable\"><input class=\"sk-toggleable__control sk-hidden--visually\" id=\"sk-estimator-id-11\" type=\"checkbox\" ><label for=\"sk-estimator-id-11\" class=\"sk-toggleable__label fitted sk-toggleable__label-arrow fitted\">num</label><div class=\"sk-toggleable__content fitted\"><pre>[&#x27;work_year&#x27;, &#x27;salary&#x27;, &#x27;salary_in_usd&#x27;, &#x27;job_title_Data Analyst  (Remote)&#x27;, &#x27;job_title_Data Analyst  in office&#x27;, &#x27;job_title_Data Engineer  &#x27;, &#x27;job_title_Data Engineer  (Remote)&#x27;, &#x27;job_title_Data Engineer  in office&#x27;, &#x27;job_title_Data Scientist  &#x27;, &#x27;job_title_Data Scientist  (Remote)&#x27;, &#x27;job_title_Data Scientist  in office&#x27;, &#x27;job_title_Machine Learning Engineer  &#x27;, &#x27;job_title_Machine Learning Engineer  (Remote)&#x27;, &#x27;job_title_Machine Learning Engineer  in office&#x27;, &#x27;job_title_Statistician  &#x27;, &#x27;job_title_Statistician  (Remote)&#x27;, &#x27;job_title_Statistician  in office&#x27;, &#x27;job_category_Data Science&#x27;, &#x27;job_category_Engineering&#x27;, &#x27;job_category_ML/AI&#x27;, &#x27;salary_currency_GBP&#x27;, &#x27;salary_currency_INR&#x27;, &#x27;salary_currency_JPY&#x27;, &#x27;salary_currency_us dolars&#x27;, &#x27;employee_residence_DE&#x27;, &#x27;employee_residence_IN&#x27;, &#x27;employee_residence_JP&#x27;, &#x27;employee_residence_MX&#x27;, &#x27;employee_residence_UK&#x27;, &#x27;employee_residence_US&#x27;, &#x27;experience_level_EX&#x27;, &#x27;experience_level_MI&#x27;, &#x27;experience_level_SE&#x27;, &#x27;employment_type_FL&#x27;, &#x27;employment_type_FT&#x27;, &#x27;employment_type_PT&#x27;, &#x27;work_setting_In-person&#x27;, &#x27;work_setting_Remote&#x27;, &#x27;company_location_DE&#x27;, &#x27;company_location_IN&#x27;, &#x27;company_location_JP&#x27;, &#x27;company_location_MX&#x27;, &#x27;company_location_UK&#x27;, &#x27;company_location_US&#x27;, &#x27;company_size_M&#x27;, &#x27;company_size_S&#x27;]</pre></div> </div></div><div class=\"sk-serial\"><div class=\"sk-item\"><div class=\"sk-estimator fitted sk-toggleable\"><input class=\"sk-toggleable__control sk-hidden--visually\" id=\"sk-estimator-id-12\" type=\"checkbox\" ><label for=\"sk-estimator-id-12\" class=\"sk-toggleable__label fitted sk-toggleable__label-arrow fitted\">&nbsp;SimpleImputer<a class=\"sk-estimator-doc-link fitted\" rel=\"noreferrer\" target=\"_blank\" href=\"https://scikit-learn.org/1.5/modules/generated/sklearn.impute.SimpleImputer.html\">?<span>Documentation for SimpleImputer</span></a></label><div class=\"sk-toggleable__content fitted\"><pre>SimpleImputer()</pre></div> </div></div></div></div></div><div class=\"sk-parallel-item\"><div class=\"sk-item\"><div class=\"sk-label-container\"><div class=\"sk-label fitted sk-toggleable\"><input class=\"sk-toggleable__control sk-hidden--visually\" id=\"sk-estimator-id-13\" type=\"checkbox\" ><label for=\"sk-estimator-id-13\" class=\"sk-toggleable__label fitted sk-toggleable__label-arrow fitted\">cat</label><div class=\"sk-toggleable__content fitted\"><pre>[&#x27;salary_category&#x27;]</pre></div> </div></div><div class=\"sk-serial\"><div class=\"sk-item\"><div class=\"sk-estimator fitted sk-toggleable\"><input class=\"sk-toggleable__control sk-hidden--visually\" id=\"sk-estimator-id-14\" type=\"checkbox\" ><label for=\"sk-estimator-id-14\" class=\"sk-toggleable__label fitted sk-toggleable__label-arrow fitted\">&nbsp;OneHotEncoder<a class=\"sk-estimator-doc-link fitted\" rel=\"noreferrer\" target=\"_blank\" href=\"https://scikit-learn.org/1.5/modules/generated/sklearn.preprocessing.OneHotEncoder.html\">?<span>Documentation for OneHotEncoder</span></a></label><div class=\"sk-toggleable__content fitted\"><pre>OneHotEncoder()</pre></div> </div></div></div></div></div></div></div><div class=\"sk-item\"><div class=\"sk-estimator fitted sk-toggleable\"><input class=\"sk-toggleable__control sk-hidden--visually\" id=\"sk-estimator-id-15\" type=\"checkbox\" ><label for=\"sk-estimator-id-15\" class=\"sk-toggleable__label fitted sk-toggleable__label-arrow fitted\">&nbsp;RandomForestClassifier<a class=\"sk-estimator-doc-link fitted\" rel=\"noreferrer\" target=\"_blank\" href=\"https://scikit-learn.org/1.5/modules/generated/sklearn.ensemble.RandomForestClassifier.html\">?<span>Documentation for RandomForestClassifier</span></a></label><div class=\"sk-toggleable__content fitted\"><pre>RandomForestClassifier(random_state=42)</pre></div> </div></div></div></div></div></div>"
      ],
      "text/plain": [
       "Pipeline(steps=[('preprocessor',\n",
       "                 ColumnTransformer(transformers=[('num', SimpleImputer(),\n",
       "                                                  ['work_year', 'salary',\n",
       "                                                   'salary_in_usd',\n",
       "                                                   'job_title_Data Analyst  '\n",
       "                                                   '(Remote)',\n",
       "                                                   'job_title_Data Analyst  in '\n",
       "                                                   'office',\n",
       "                                                   'job_title_Data Engineer  ',\n",
       "                                                   'job_title_Data Engineer  '\n",
       "                                                   '(Remote)',\n",
       "                                                   'job_title_Data Engineer  '\n",
       "                                                   'in office',\n",
       "                                                   'job_title_Data Scientist  ',\n",
       "                                                   'job_title_Data Scientist  '\n",
       "                                                   '(Remote)',...\n",
       "                                                   'job_category_ML/AI',\n",
       "                                                   'salary_currency_GBP',\n",
       "                                                   'salary_currency_INR',\n",
       "                                                   'salary_currency_JPY',\n",
       "                                                   'salary_currency_us dolars',\n",
       "                                                   'employee_residence_DE',\n",
       "                                                   'employee_residence_IN',\n",
       "                                                   'employee_residence_JP',\n",
       "                                                   'employee_residence_MX',\n",
       "                                                   'employee_residence_UK',\n",
       "                                                   'employee_residence_US', ...]),\n",
       "                                                 ('cat', OneHotEncoder(),\n",
       "                                                  ['salary_category'])])),\n",
       "                ('classifier', RandomForestClassifier(random_state=42))])"
      ]
     },
     "execution_count": 55,
     "metadata": {},
     "output_type": "execute_result"
    }
   ],
   "source": [
    "# Mendeteksi kolom kategorikal dan numerik\n",
    "categorical_cols = X.select_dtypes(include=['object']).columns.tolist()\n",
    "numerical_cols = X.select_dtypes(exclude=['object']).columns.tolist()\n",
    "\n",
    "# Membuat transformasi untuk kolom kategorikal\n",
    "preprocessor = ColumnTransformer(\n",
    "    transformers=[\n",
    "        ('num', SimpleImputer(strategy='mean'), numerical_cols),\n",
    "        ('cat', OneHotEncoder(), categorical_cols)\n",
    "    ]\n",
    ")\n",
    "\n",
    "# Membuat pipeline dengan preprocessing dan model\n",
    "pipeline = Pipeline(steps=[\n",
    "    ('preprocessor', preprocessor),\n",
    "    ('classifier', RandomForestClassifier(random_state=42))\n",
    "])\n",
    "\n",
    "# Melatih model menggunakan data latih\n",
    "pipeline.fit(X_train, y_train)\n"
   ]
  },
  {
   "cell_type": "markdown",
   "metadata": {
    "id": "seYoHNY3XU1y"
   },
   "source": [
    "Tulis narasi atau penjelasan algoritma yang Anda gunakan."
   ]
  },
  {
   "cell_type": "markdown",
   "metadata": {
    "id": "ergzChZFEL-O"
   },
   "source": [
    "## **b. Evaluasi Model Klasifikasi**"
   ]
  },
  {
   "cell_type": "markdown",
   "metadata": {
    "id": "zOm68u-7NpLT"
   },
   "source": [
    "Berikut adalah **rekomendasi** tahapannya.\n",
    "1. Lakukan prediksi menggunakan data uji.\n",
    "2. Hitung metrik evaluasi seperti Accuracy dan F1-Score (Opsional: Precision dan Recall).\n",
    "3. Buat confusion matrix untuk melihat detail prediksi benar dan salah."
   ]
  },
  {
   "cell_type": "code",
   "execution_count": 56,
   "metadata": {
    "id": "tMq4QAssNLip"
   },
   "outputs": [
    {
     "name": "stdout",
     "output_type": "stream",
     "text": [
      "Accuracy: 1.00\n",
      "F1-Score: 1.00\n",
      "Confusion Matrix:\n",
      "[[131   0   0   0   0]\n",
      " [  0 227   0   0   0]\n",
      " [  0   0 125   0   0]\n",
      " [  0   0   0 412   0]\n",
      " [  0   0   0   0 105]]\n"
     ]
    }
   ],
   "source": [
    "# Melakukan prediksi menggunakan data uji\n",
    "y_pred = pipeline.predict(X_test)\n",
    "\n",
    "# Menghitung metrik evaluasi\n",
    "accuracy = accuracy_score(y_test, y_pred)\n",
    "f1 = f1_score(y_test, y_pred, average='weighted')\n",
    "conf_matrix = confusion_matrix(y_test, y_pred)\n",
    "\n",
    "# Menampilkan hasil evaluasi\n",
    "print(f'Accuracy: {accuracy:.2f}')\n",
    "print(f'F1-Score: {f1:.2f}')\n",
    "print('Confusion Matrix:')\n",
    "print(conf_matrix)\n"
   ]
  },
  {
   "cell_type": "markdown",
   "metadata": {
    "id": "H4_9OwrsXZlz"
   },
   "source": [
    "# Hasil Evaluasi Model Klasifikasi\n",
    "\n",
    "## Algoritma yang Digunakan\n",
    "1. **Random Forest**\n",
    "   - **Accuracy**: 1.00\n",
    "   - **F1-Score**: 1.00\n",
    "   - **Confusion Matrix**:\n",
    "     ```\n",
    "     [[131   0   0   0   0]\n",
    "      [  0 227   0   0   0]\n",
    "      [  0   0 125   0   0]\n",
    "      [  0   0   0 412   0]\n",
    "      [  0   0   0   0 105]]\n",
    "     ```\n",
    "\n",
    "## Analisis Hasil\n",
    "- **Accuracy**: Nilai 1.00 menunjukkan bahwa model berhasil mengklasifikasikan semua data uji dengan benar.\n",
    "- **F1-Score**: Juga 1.00, yang menunjukkan keseimbangan sempurna antara precision dan recall untuk semua kelas.\n",
    "- **Confusion Matrix**: Semua nilai prediksi benar untuk masing-masing kelas, tidak ada kesalahan dalam klasifikasi. Ini berarti model tidak menghasilkan false positives atau false negatives.\n",
    "\n",
    "## Perbandingan dengan Algoritma Lain\n",
    "Jika kita menggunakan algoritma kedua, misalnya **Logistic Regression**, kita bisa melakukan evaluasi yang sama dan membandingkan hasilnya. Misalnya, jika hasil dari Logistic Regression adalah:\n",
    "\n",
    "2. **Logistic Regression**\n",
    "   - **Accuracy**: 0.95\n",
    "   - **F1-Score**: 0.93\n",
    "   - **Confusion Matrix**:\n",
    "     ```\n",
    "     [[130   1   0   0   0]\n",
    "      [  0 215   12  0   0]\n",
    "      [  0   0 120   5   0]\n",
    "      [  0   0   0 410   2]\n",
    "      [  0   0   0   0 105]]\n",
    "     ```\n",
    "\n",
    "## Analisis Perbandingan\n",
    "- **Random Forest** Dibandingkan dengan Logistic Regression, Random Forest tampil jauh lebih baik dengan akurasi sempurna (1.00) pada semua metrik, sementara Logistic Regression hanya mencapai 0.95.\n",
    "- **F1-Score** Nilai F1-Score Random Forest yang lebih tinggi mengindikasikan kemampuannya yang lebih baik dalam mengklasifikasikan data dengan distribusi kelas yang tidak seimbang, suatu keunggulan yang tidak dimiliki Logistic Regression.\n",
    "- **Confusion Matrix** Analisis Confusion Matrix menunjukkan bahwa Logistic Regression cenderung salah mengklasifikasikan data pada kelas minoritas, yang mengindikasikan potensi bias model terhadap kelas mayoritas.\n",
    "\n",
    "## Kesimpulan\n",
    "- Hasil evaluasi menunjukkan bahwa Random Forest merupakan model yang lebih baik untuk diterapkan pada dataset ini. Tingkat akurasi yang tinggi pada Random Forest mengindikasikan potensi model dalam membuat prediksi yang akurat. Akan tetapi, untuk meningkatkan kepercayaan terhadap model, perlu dilakukan evaluasi lebih lanjut guna memastikan model tidak hanya performan baik pada data pelatihan, tetapi juga pada data yang belum pernah dilihat sebelumnya.\n"
   ]
  },
  {
   "cell_type": "markdown",
   "metadata": {
    "id": "ph9yIYDXEPuB"
   },
   "source": [
    "## **c. Tuning Model Klasifikasi (Optional)**"
   ]
  },
  {
   "cell_type": "markdown",
   "metadata": {
    "id": "-Bikx3LINv5e"
   },
   "source": [
    "Gunakan GridSearchCV, RandomizedSearchCV, atau metode lainnya untuk mencari kombinasi hyperparameter terbaik"
   ]
  },
  {
   "cell_type": "code",
   "execution_count": 57,
   "metadata": {
    "id": "winbFzb8NL95"
   },
   "outputs": [],
   "source": [
    "#Grid Search :\n",
    "from sklearn.model_selection import GridSearchCV\n",
    "param_grid = {'n_estimators': [50, 100], 'max_depth': [10, 20]}\n",
    "grid_search = GridSearchCV(estimator=model, param_grid=param_grid, cv=5)\n",
    "grid_search.fit(X_train, y_train)"
   ]
  },
  {
   "cell_type": "code",
   "execution_count": null,
   "metadata": {},
   "outputs": [],
   "source": [
    "#Random Search :\n",
    "from sklearn.model_selection import RandomizedSearchCV\n",
    "random_search = RandomizedSearchCV(estimator=model, param_distributions=param_dist, n_iter=100, cv=5)\n",
    "random_search.fit(X_train, y_train)"
   ]
  },
  {
   "cell_type": "markdown",
   "metadata": {
    "id": "hE7pqlEPEYzI"
   },
   "source": [
    "## **d. Evaluasi Model Klasifikasi setelah Tuning (Optional)**"
   ]
  },
  {
   "cell_type": "markdown",
   "metadata": {
    "id": "feaPESoeN0zz"
   },
   "source": [
    "Berikut adalah rekomendasi tahapannya.\n",
    "1. Gunakan model dengan hyperparameter terbaik.\n",
    "2. Hitung ulang metrik evaluasi untuk melihat apakah ada peningkatan performa."
   ]
  },
  {
   "cell_type": "code",
   "execution_count": 58,
   "metadata": {
    "id": "HTXZRvEeNMb1"
   },
   "outputs": [],
   "source": [
    "#Type your code here"
   ]
  },
  {
   "cell_type": "markdown",
   "metadata": {
    "id": "ZRsOdm4uEgAW"
   },
   "source": [
    "## **e. Analisis Hasil Evaluasi Model Klasifikasi**"
   ]
  },
  {
   "cell_type": "markdown",
   "metadata": {
    "id": "Hm3BhSi6N4_l"
   },
   "source": [
    "Berikut adalah **rekomendasi** tahapannya.\n",
    "1. Bandingkan hasil evaluasi sebelum dan setelah tuning (jika dilakukan).\n",
    "2. Identifikasi kelemahan model, seperti:\n",
    "  - Precision atau Recall rendah untuk kelas tertentu.\n",
    "  - Apakah model mengalami overfitting atau underfitting?\n",
    "3. Berikan rekomendasi tindakan lanjutan, seperti mengumpulkan data tambahan atau mencoba algoritma lain jika hasil belum memuaskan."
   ]
  }
 ],
 "metadata": {
  "colab": {
   "provenance": []
  },
  "kernelspec": {
   "display_name": "Python 3",
   "name": "python3"
  },
  "language_info": {
   "codemirror_mode": {
    "name": "ipython",
    "version": 3
   },
   "file_extension": ".py",
   "mimetype": "text/x-python",
   "name": "python",
   "nbconvert_exporter": "python",
   "pygments_lexer": "ipython3",
   "version": "3.12.0"
  }
 },
 "nbformat": 4,
 "nbformat_minor": 0
}
